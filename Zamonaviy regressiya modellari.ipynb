{
  "nbformat": 4,
  "nbformat_minor": 0,
  "metadata": {
    "colab": {
      "provenance": []
    },
    "kernelspec": {
      "name": "python3",
      "display_name": "Python 3"
    },
    "language_info": {
      "name": "python"
    }
  },
  "cells": [
    {
      "cell_type": "code",
      "execution_count": 3,
      "metadata": {
        "colab": {
          "base_uri": "https://localhost:8080/"
        },
        "id": "9bDQpyhVxxZ7",
        "outputId": "99e34895-1c20-4b96-fd98-94c9153e27ec"
      },
      "outputs": [
        {
          "output_type": "stream",
          "name": "stderr",
          "text": [
            "/usr/local/lib/python3.11/dist-packages/keras/src/layers/core/dense.py:87: UserWarning: Do not pass an `input_shape`/`input_dim` argument to a layer. When using Sequential models, prefer using an `Input(shape)` object as the first layer in the model instead.\n",
            "  super().__init__(activity_regularizer=activity_regularizer, **kwargs)\n"
          ]
        },
        {
          "output_type": "stream",
          "name": "stdout",
          "text": [
            "\u001b[1m3/3\u001b[0m \u001b[32m━━━━━━━━━━━━━━━━━━━━\u001b[0m\u001b[37m\u001b[0m \u001b[1m0s\u001b[0m 43ms/step\n",
            "Regressiya modellari natijalari:\n",
            "Ridge: MSE = 3077.42, R2 = 0.42\n",
            "Lasso: MSE = 2798.19, R2 = 0.47\n",
            "ElasticNet: MSE = 4775.47, R2 = 0.10\n",
            "GradientBoosting: MSE = 2898.44, R2 = 0.45\n",
            "DNN: MSE = 2787.49, R2 = 0.47\n"
          ]
        }
      ],
      "source": [
        "import numpy as np\n",
        "import pandas as pd\n",
        "from sklearn.datasets import load_diabetes\n",
        "from sklearn.model_selection import train_test_split\n",
        "from sklearn.linear_model import Ridge, Lasso, ElasticNet\n",
        "from sklearn.ensemble import GradientBoostingRegressor\n",
        "from sklearn.metrics import mean_squared_error, r2_score\n",
        "from tensorflow.keras.models import Sequential\n",
        "from tensorflow.keras.layers import Dense\n",
        "from tensorflow.keras.optimizers import Adam\n",
        "\n",
        "# 1. Ma'lumotlarni yuklash\n",
        "data = load_diabetes()\n",
        "X, y = data.data, data.target\n",
        "\n",
        "# Ma'lumotlarni bo'lish\n",
        "X_train, X_test, y_train, y_test = train_test_split(X, y, test_size=0.2, random_state=42)\n",
        "\n",
        "# Natijalarni saqlash\n",
        "results = {}\n",
        "\n",
        "# 2. Ridge Regression\n",
        "ridge = Ridge(alpha=1.0)\n",
        "ridge.fit(X_train, y_train)\n",
        "ridge_pred = ridge.predict(X_test)\n",
        "results[\"Ridge\"] = {\n",
        "    \"MSE\": mean_squared_error(y_test, ridge_pred),\n",
        "    \"R2\": r2_score(y_test, ridge_pred)\n",
        "}\n",
        "\n",
        "# 3. Lasso Regression\n",
        "lasso = Lasso(alpha=0.1)\n",
        "lasso.fit(X_train, y_train)\n",
        "lasso_pred = lasso.predict(X_test)\n",
        "results[\"Lasso\"] = {\n",
        "    \"MSE\": mean_squared_error(y_test, lasso_pred),\n",
        "    \"R2\": r2_score(y_test, lasso_pred)\n",
        "}\n",
        "\n",
        "# 4. ElasticNet Regression\n",
        "elastic = ElasticNet(alpha=0.1, l1_ratio=0.5)\n",
        "elastic.fit(X_train, y_train)\n",
        "elastic_pred = elastic.predict(X_test)\n",
        "results[\"ElasticNet\"] = {\n",
        "    \"MSE\": mean_squared_error(y_test, elastic_pred),\n",
        "    \"R2\": r2_score(y_test, elastic_pred)\n",
        "}\n",
        "\n",
        "# 5. Gradient Boosting Regressor\n",
        "gbr = GradientBoostingRegressor(n_estimators=100, learning_rate=0.1, max_depth=3, random_state=42)\n",
        "gbr.fit(X_train, y_train)\n",
        "gbr_pred = gbr.predict(X_test)\n",
        "results[\"GradientBoosting\"] = {\n",
        "    \"MSE\": mean_squared_error(y_test, gbr_pred),\n",
        "    \"R2\": r2_score(y_test, gbr_pred)\n",
        "}\n",
        "\n",
        "# 6. Deep Neural Network (DNN)\n",
        "dnn = Sequential([\n",
        "    Dense(64, activation='relu', input_shape=(X_train.shape[1],)),\n",
        "    Dense(32, activation='relu'),\n",
        "    Dense(1)\n",
        "])\n",
        "dnn.compile(optimizer=Adam(learning_rate=0.01), loss='mse', metrics=['mse'])\n",
        "dnn.fit(X_train, y_train, epochs=50, batch_size=16, verbose=0)\n",
        "dnn_pred = dnn.predict(X_test).flatten()\n",
        "results[\"DNN\"] = {\n",
        "    \"MSE\": mean_squared_error(y_test, dnn_pred),\n",
        "    \"R2\": r2_score(y_test, dnn_pred)\n",
        "}\n",
        "\n",
        "# 7. Natijalarni chiqarish\n",
        "print(\"Regressiya modellari natijalari:\")\n",
        "for model, metrics in results.items():\n",
        "    print(f\"{model}: MSE = {metrics['MSE']:.2f}, R2 = {metrics['R2']:.2f}\")\n"
      ]
    },
    {
      "cell_type": "code",
      "source": [],
      "metadata": {
        "id": "v8Ih_R98yC4r"
      },
      "execution_count": null,
      "outputs": []
    }
  ]
}