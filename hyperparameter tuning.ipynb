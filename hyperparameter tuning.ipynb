{
  "nbformat": 4,
  "nbformat_minor": 0,
  "metadata": {
    "colab": {
      "provenance": []
    },
    "kernelspec": {
      "name": "python3",
      "display_name": "Python 3"
    },
    "language_info": {
      "name": "python"
    }
  },
  "cells": [
    {
      "cell_type": "code",
      "execution_count": 2,
      "metadata": {
        "colab": {
          "base_uri": "https://localhost:8080/"
        },
        "id": "9bDQpyhVxxZ7",
        "outputId": "d89ce6e8-7fda-4b3e-f95c-0c7249c038c8"
      },
      "outputs": [
        {
          "output_type": "stream",
          "name": "stdout",
          "text": [
            "Ma'lumotlar to'plamini tanlang (iris, wine, digits yoki fayl yo'li): iris\n",
            "Eng yaxshi parametrlar: {'max_depth': None, 'min_samples_split': 2, 'n_estimators': 200}\n",
            "Test to'plamidagi aniqlik: 1.0\n"
          ]
        }
      ],
      "source": [
        "import pandas as pd\n",
        "from sklearn.datasets import load_iris, load_wine, load_digits\n",
        "from sklearn.model_selection import train_test_split, GridSearchCV\n",
        "from sklearn.ensemble import RandomForestClassifier\n",
        "from sklearn.metrics import accuracy_score\n",
        "\n",
        "def load_dataset(dataset_name):\n",
        "    \"\"\"\n",
        "    Ma'lumotlar to'plamini yuklaydi.\n",
        "    :param dataset_name: (str) Ma'lumot to'plami nomi: \"iris\", \"wine\", \"digits\", yoki fayl nomi\n",
        "    :return: X, y (ma'lumotlar va nishon)\n",
        "    \"\"\"\n",
        "    if dataset_name == \"iris\":\n",
        "        data = load_iris()\n",
        "        X, y = data.data, data.target\n",
        "    elif dataset_name == \"wine\":\n",
        "        data = load_wine()\n",
        "        X, y = data.data, data.target\n",
        "    elif dataset_name == \"digits\":\n",
        "        data = load_digits()\n",
        "        X, y = data.data, data.target\n",
        "    else:\n",
        "        # CSV fayldan yuklash\n",
        "        data = pd.read_csv(dataset_name)\n",
        "        X = data.drop(columns=[\"target\"])  # Maqsad ustuni \"target\"\n",
        "        y = data[\"target\"]\n",
        "    return X, y\n",
        "\n",
        "def hyperparameter_tuning(X, y):\n",
        "    \"\"\"\n",
        "    Hiperparametrlarni sozlash va eng yaxshi modelni qaytaradi.\n",
        "    :param X: Xususiyatlar\n",
        "    :param y: Nishonlar\n",
        "    :return: (best_model, best_params, test_accuracy)\n",
        "    \"\"\"\n",
        "    # Ma'lumotlarni bo'lish\n",
        "    X_train, X_test, y_train, y_test = train_test_split(X, y, test_size=0.2, random_state=42)\n",
        "\n",
        "    # Model va parametrlar\n",
        "    model = RandomForestClassifier(random_state=42)\n",
        "    param_grid = {\n",
        "        'n_estimators': [50, 100, 200],\n",
        "        'max_depth': [None, 10, 20, 30],\n",
        "        'min_samples_split': [2, 5, 10]\n",
        "    }\n",
        "\n",
        "    # GridSearchCV\n",
        "    grid_search = GridSearchCV(estimator=model, param_grid=param_grid, cv=5, scoring='accuracy')\n",
        "    grid_search.fit(X_train, y_train)\n",
        "\n",
        "    # Eng yaxshi parametrlar va aniqlik\n",
        "    best_params = grid_search.best_params_\n",
        "    best_model = grid_search.best_estimator_\n",
        "    y_pred = best_model.predict(X_test)\n",
        "    test_accuracy = accuracy_score(y_test, y_pred)\n",
        "\n",
        "    return best_model, best_params, test_accuracy\n",
        "\n",
        "# Asosiy dastur\n",
        "if __name__ == \"__main__\":\n",
        "    dataset_name = input(\"Ma'lumotlar to'plamini tanlang (iris, wine, digits yoki fayl yo'li): \")\n",
        "    X, y = load_dataset(dataset_name)\n",
        "    best_model, best_params, test_accuracy = hyperparameter_tuning(X, y)\n",
        "\n",
        "    print(\"Eng yaxshi parametrlar:\", best_params)\n",
        "    print(\"Test to'plamidagi aniqlik:\", test_accuracy)\n"
      ]
    },
    {
      "cell_type": "code",
      "source": [],
      "metadata": {
        "id": "v8Ih_R98yC4r"
      },
      "execution_count": null,
      "outputs": []
    }
  ]
}